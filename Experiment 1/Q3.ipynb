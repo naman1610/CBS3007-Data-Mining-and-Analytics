{
 "cells": [
  {
   "cell_type": "code",
   "execution_count": 1,
   "metadata": {},
   "outputs": [
    {
     "name": "stdout",
     "output_type": "stream",
     "text": [
      "Frequent Itemsets:\n",
      "     support                             itemsets\n",
      "0   0.200000                        (Apple Juice)\n",
      "1   0.366667                        (Grape Juice)\n",
      "2   0.133333                        (Mango Juice)\n",
      "3   0.300000                    (Muskmelon Juice)\n",
      "4   0.466667                       (Orange Juice)\n",
      "5   0.200000                    (Pineapple Juice)\n",
      "6   0.333333                   (Watermelon Juice)\n",
      "7   0.133333          (Orange Juice, Apple Juice)\n",
      "8   0.100000       (Grape Juice, Muskmelon Juice)\n",
      "9   0.100000          (Orange Juice, Grape Juice)\n",
      "10  0.100000  (Watermelon Juice, Muskmelon Juice)\n",
      "11  0.133333     (Orange Juice, Watermelon Juice)\n",
      "\n",
      "Association Rules:\n",
      "          antecedents         consequents  antecedent support  \\\n",
      "0      (Orange Juice)       (Apple Juice)            0.466667   \n",
      "1       (Apple Juice)      (Orange Juice)            0.200000   \n",
      "2  (Watermelon Juice)   (Muskmelon Juice)            0.333333   \n",
      "3   (Muskmelon Juice)  (Watermelon Juice)            0.300000   \n",
      "\n",
      "   consequent support   support  confidence      lift      leverage  \\\n",
      "0            0.200000  0.133333    0.285714  1.428571  4.000000e-02   \n",
      "1            0.466667  0.133333    0.666667  1.428571  4.000000e-02   \n",
      "2            0.300000  0.100000    0.300000  1.000000  1.387779e-17   \n",
      "3            0.333333  0.100000    0.333333  1.000000  1.387779e-17   \n",
      "\n",
      "   conviction  zhangs_metric  \n",
      "0        1.12   5.625000e-01  \n",
      "1        1.60   3.750000e-01  \n",
      "2        1.00   2.081668e-16  \n",
      "3        1.00   1.982541e-16  \n"
     ]
    }
   ],
   "source": [
    "import pandas as pd\n",
    "from mlxtend.frequent_patterns import apriori, association_rules\n",
    "from mlxtend.preprocessing import TransactionEncoder\n",
    "\n",
    "# Read the CSV file into a DataFrame\n",
    "df = pd.read_csv('fruitstall.csv')\n",
    "\n",
    "# Preprocess the data to create a list of transactions\n",
    "transactions = df[['Item1', 'Item2']].values.tolist()\n",
    "\n",
    "# Convert transactions into a one-hot encoded DataFrame\n",
    "te = TransactionEncoder()\n",
    "te_ary = te.fit(transactions).transform(transactions)\n",
    "df_encoded = pd.DataFrame(te_ary, columns=te.columns_)\n",
    "\n",
    "# Use the Apriori algorithm to find frequent itemsets\n",
    "frequent_itemsets = apriori(df_encoded, min_support=0.1, use_colnames=True)\n",
    "\n",
    "# Generate association rules from the frequent itemsets\n",
    "rules = association_rules(frequent_itemsets, metric=\"lift\", min_threshold=1)\n",
    "\n",
    "# Display the frequent itemsets and the association rules\n",
    "print(\"Frequent Itemsets:\")\n",
    "print(frequent_itemsets)\n",
    "print(\"\\nAssociation Rules:\")\n",
    "print(rules)"
   ]
  }
 ],
 "metadata": {
  "kernelspec": {
   "display_name": "Python 3",
   "language": "python",
   "name": "python3"
  },
  "language_info": {
   "codemirror_mode": {
    "name": "ipython",
    "version": 3
   },
   "file_extension": ".py",
   "mimetype": "text/x-python",
   "name": "python",
   "nbconvert_exporter": "python",
   "pygments_lexer": "ipython3",
   "version": "3.12.2"
  }
 },
 "nbformat": 4,
 "nbformat_minor": 2
}
