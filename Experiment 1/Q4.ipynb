{
 "cells": [
  {
   "cell_type": "code",
   "execution_count": 1,
   "metadata": {},
   "outputs": [
    {
     "name": "stdout",
     "output_type": "stream",
     "text": [
      "Frequent Itemsets:\n",
      "     support                           itemsets\n",
      "0   0.266667                    (Nissan Altima)\n",
      "1   0.200000                          (Audi A4)\n",
      "2   0.166667                     (Honda Accord)\n",
      "3   0.266667                   (Hyundai Sonata)\n",
      "4   0.133333                     (BMW 3 Series)\n",
      "5   0.233333                     (Ford Mustang)\n",
      "6   0.333333                 (Chevrolet Malibu)\n",
      "7   0.100000                (Volkswagen Passat)\n",
      "8   0.133333                       (Kia Optima)\n",
      "9   0.133333                   (Subaru Impreza)\n",
      "10  0.100000            (Mercedes-Benz C-Class)\n",
      "11  0.133333                     (Toyota Camry)\n",
      "12  0.100000  (Chevrolet Malibu, Nissan Altima)\n",
      "13  0.100000     (BMW 3 Series, Hyundai Sonata)\n",
      "\n",
      "Association Rules:\n",
      "          antecedents         consequents  antecedent support  \\\n",
      "0  (Chevrolet Malibu)     (Nissan Altima)            0.333333   \n",
      "1     (Nissan Altima)  (Chevrolet Malibu)            0.266667   \n",
      "2      (BMW 3 Series)    (Hyundai Sonata)            0.133333   \n",
      "3    (Hyundai Sonata)      (BMW 3 Series)            0.266667   \n",
      "\n",
      "   consequent support  support  confidence    lift  leverage  conviction  \\\n",
      "0            0.266667      0.1       0.300  1.1250  0.011111    1.047619   \n",
      "1            0.333333      0.1       0.375  1.1250  0.011111    1.066667   \n",
      "2            0.266667      0.1       0.750  2.8125  0.064444    2.933333   \n",
      "3            0.133333      0.1       0.375  2.8125  0.064444    1.386667   \n",
      "\n",
      "   zhangs_metric  \n",
      "0       0.166667  \n",
      "1       0.151515  \n",
      "2       0.743590  \n",
      "3       0.878788  \n"
     ]
    }
   ],
   "source": [
    "import pandas as pd\n",
    "from mlxtend.frequent_patterns import fpgrowth, association_rules\n",
    "from mlxtend.preprocessing import TransactionEncoder\n",
    "\n",
    "# Read the CSV file into a DataFrame\n",
    "df = pd.read_csv('automobiles.csv')\n",
    "\n",
    "# Preprocess the data to create a list of transactions\n",
    "transactions = df['Cars Purchased'].apply(lambda x: x.split(', ')).tolist()\n",
    "\n",
    "# Convert transactions into a one-hot encoded DataFrame\n",
    "te = TransactionEncoder()\n",
    "te_ary = te.fit(transactions).transform(transactions)\n",
    "df_encoded = pd.DataFrame(te_ary, columns=te.columns_)\n",
    "\n",
    "# Use the FP-Growth algorithm to find frequent itemsets\n",
    "frequent_itemsets = fpgrowth(df_encoded, min_support=0.1, use_colnames=True)\n",
    "\n",
    "# Generate association rules from the frequent itemsets\n",
    "rules = association_rules(frequent_itemsets, metric=\"lift\", min_threshold=1)\n",
    "\n",
    "# Display the frequent itemsets and the association rules\n",
    "print(\"Frequent Itemsets:\")\n",
    "print(frequent_itemsets)\n",
    "print(\"\\nAssociation Rules:\")\n",
    "print(rules)"
   ]
  }
 ],
 "metadata": {
  "kernelspec": {
   "display_name": "Python 3",
   "language": "python",
   "name": "python3"
  },
  "language_info": {
   "codemirror_mode": {
    "name": "ipython",
    "version": 3
   },
   "file_extension": ".py",
   "mimetype": "text/x-python",
   "name": "python",
   "nbconvert_exporter": "python",
   "pygments_lexer": "ipython3",
   "version": "3.12.2"
  }
 },
 "nbformat": 4,
 "nbformat_minor": 2
}
