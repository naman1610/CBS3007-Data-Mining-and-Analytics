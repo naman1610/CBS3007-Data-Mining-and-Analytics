{
 "cells": [
  {
   "cell_type": "code",
   "execution_count": 2,
   "metadata": {},
   "outputs": [
    {
     "name": "stdout",
     "output_type": "stream",
     "text": [
      "\n",
      "Probabilities for Income: 30-70, Criminal Record: Yes, EXP: >5\n",
      "Probability of Loan Approval (Yes): 0.7500\n",
      "Probability of Loan Rejection (No): 0.2500\n",
      "\n",
      "Prediction: Loan will be APPROVED\n"
     ]
    }
   ],
   "source": [
    "import pandas as pd\n",
    "import numpy as np\n",
    "from sklearn.preprocessing import LabelEncoder\n",
    "\n",
    "# Read the CSV file\n",
    "df = pd.read_csv('phone_buyers.csv')\n",
    "\n",
    "# Create label encoders for categorical variables\n",
    "le_income = LabelEncoder()\n",
    "le_criminal = LabelEncoder()\n",
    "le_exp = LabelEncoder()\n",
    "le_loan = LabelEncoder()\n",
    "\n",
    "# Transform categorical variables to numerical\n",
    "df['Income_encoded'] = le_income.fit_transform(df['Income (in K)'])\n",
    "df['Criminal_encoded'] = le_criminal.fit_transform(df['Criminal Record'])\n",
    "df['EXP_encoded'] = le_exp.fit_transform(df['EXP'])\n",
    "df['Loan_encoded'] = le_loan.fit_transform(df['Loan Approved?'])\n",
    "\n",
    "def calculate_probability(df, income, criminal, exp):\n",
    "    total_records = len(df)\n",
    "    \n",
    "    # Prior probability P(Yes) and P(No)\n",
    "    p_yes = len(df[df['Loan Approved?'] == 'Yes']) / total_records\n",
    "    p_no = len(df[df['Loan Approved?'] == 'No']) / total_records\n",
    "    \n",
    "    # Calculate conditional probabilities for Yes\n",
    "    p_income_yes = len(df[(df['Income (in K)'] == income) & (df['Loan Approved?'] == 'Yes')]) / len(df[df['Loan Approved?'] == 'Yes'])\n",
    "    p_criminal_yes = len(df[(df['Criminal Record'] == criminal) & (df['Loan Approved?'] == 'Yes')]) / len(df[df['Loan Approved?'] == 'Yes'])\n",
    "    p_exp_yes = len(df[(df['EXP'] == exp) & (df['Loan Approved?'] == 'Yes')]) / len(df[df['Loan Approved?'] == 'Yes'])\n",
    "    \n",
    "    # Calculate conditional probabilities for No\n",
    "    p_income_no = len(df[(df['Income (in K)'] == income) & (df['Loan Approved?'] == 'No')]) / len(df[df['Loan Approved?'] == 'No'])\n",
    "    p_criminal_no = len(df[(df['Criminal Record'] == criminal) & (df['Loan Approved?'] == 'No')]) / len(df[df['Loan Approved?'] == 'No'])\n",
    "    p_exp_no = len(df[(df['EXP'] == exp) & (df['Loan Approved?'] == 'No')]) / len(df[df['Loan Approved?'] == 'No'])\n",
    "    \n",
    "    # Calculate final probabilities using Naive Bayes\n",
    "    p_yes_final = p_yes * p_income_yes * p_criminal_yes * p_exp_yes\n",
    "    p_no_final = p_no * p_income_no * p_criminal_no * p_exp_no\n",
    "    \n",
    "    # Normalize probabilities\n",
    "    total = p_yes_final + p_no_final\n",
    "    p_yes_final = p_yes_final / total\n",
    "    p_no_final = p_no_final / total\n",
    "    \n",
    "    return p_yes_final, p_no_final\n",
    "\n",
    "# Test case: Income: 30-70, Criminal Record: Yes, EXP: >5\n",
    "income = '30-70'\n",
    "criminal = 'Yes'\n",
    "exp = '>5'\n",
    "\n",
    "p_yes, p_no = calculate_probability(df, income, criminal, exp)\n",
    "\n",
    "print(f\"\\nProbabilities for Income: {income}, Criminal Record: {criminal}, EXP: {exp}\")\n",
    "print(f\"Probability of Loan Approval (Yes): {p_yes:.4f}\")\n",
    "print(f\"Probability of Loan Rejection (No): {p_no:.4f}\")\n",
    "\n",
    "if p_yes > p_no:\n",
    "    print(\"\\nPrediction: Loan will be APPROVED\")\n",
    "else:\n",
    "    print(\"\\nPrediction: Loan will be REJECTED\")"
   ]
  }
 ],
 "metadata": {
  "kernelspec": {
   "display_name": "Python 3",
   "language": "python",
   "name": "python3"
  },
  "language_info": {
   "codemirror_mode": {
    "name": "ipython",
    "version": 3
   },
   "file_extension": ".py",
   "mimetype": "text/x-python",
   "name": "python",
   "nbconvert_exporter": "python",
   "pygments_lexer": "ipython3",
   "version": "3.12.2"
  }
 },
 "nbformat": 4,
 "nbformat_minor": 2
}
