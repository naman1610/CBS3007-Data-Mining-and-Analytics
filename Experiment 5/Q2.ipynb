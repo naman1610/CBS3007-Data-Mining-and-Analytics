{
 "cells": [
  {
   "cell_type": "code",
   "execution_count": 24,
   "metadata": {},
   "outputs": [
    {
     "name": "stdout",
     "output_type": "stream",
     "text": [
      "Training Accuracy: 1.00\n",
      "Testing Accuracy: 1.00\n"
     ]
    },
    {
     "data": {
      "image/png": "[encoded data removed]",
      "text/plain": [
       "<Figure size 640x480 with 2 Axes>"
      ]
     },
     "metadata": {},
     "output_type": "display_data"
    },
    {
     "name": "stdout",
     "output_type": "stream",
     "text": [
      "\n",
      "Example prediction for a new student:\n",
      "Probability of acceptance: 0.91\n"
     ]
    }
   ],
   "source": [
    "import pandas as pd\n",
    "from sklearn.model_selection import train_test_split\n",
    "from sklearn.linear_model import LogisticRegression\n",
    "from sklearn.preprocessing import StandardScaler\n",
    "from sklearn.impute import SimpleImputer\n",
    "from sklearn.metrics import ConfusionMatrixDisplay\n",
    "\n",
    "# Read the dataset\n",
    "df = pd.read_csv(\"studentRecords.csv\")\n",
    "\n",
    "# Convert Yes/No to 1/0 for binary features\n",
    "df['Mini Project Experience'] = df['Mini Project Experience'].map({'Yes': 1, 'No': 0})\n",
    "df['Internship Completed'] = df['Internship Completed'].map({'Yes': 1, 'No': 0})\n",
    "\n",
    "# Select features for prediction\n",
    "features = ['CGPA', 'GRE Score', 'GMAT Score', 'TOEFL Score', \n",
    "           'Research Articles', 'Mini Project Experience', 'Internship Completed']\n",
    "\n",
    "X = df[features]\n",
    "# For demonstration, we'll consider students with CGPA >= 8.0 as \"accepted\"\n",
    "y = (df['CGPA'] >= 8.0).astype(int)\n",
    "\n",
    "# Handle missing values\n",
    "imputer = SimpleImputer(strategy='mean')\n",
    "X = pd.DataFrame(imputer.fit_transform(X), columns=features)\n",
    "\n",
    "# Scale the features\n",
    "scaler = StandardScaler()\n",
    "X_scaled = scaler.fit_transform(X)\n",
    "\n",
    "# Split the data\n",
    "X_train, X_test, y_train, y_test = train_test_split(X_scaled, y, test_size=0.2, random_state=42)\n",
    "\n",
    "# Train logistic regression model\n",
    "model = LogisticRegression(random_state=42)\n",
    "model.fit(X_train, y_train)\n",
    "\n",
    "# Evaluate the model\n",
    "train_score = model.score(X_train, y_train)\n",
    "test_score = model.score(X_test, y_test)\n",
    "\n",
    "print(f\"Training Accuracy: {train_score:.2f}\")\n",
    "print(f\"Testing Accuracy: {test_score:.2f}\")\n",
    "# Plot the confusion matrix\n",
    "disp = ConfusionMatrixDisplay(confusion_matrix=conf_matrix)\n",
    "disp.plot(cmap='Blues')\n",
    "plt.title('Confusion Matrix')\n",
    "plt.show()\n",
    "# Function to predict probability for new students\n",
    "def predict_admission(student_data):\n",
    "    student_scaled = scaler.transform(student_data)\n",
    "    prob = model.predict_proba(student_scaled)[0][1]\n",
    "    return prob\n",
    "\n",
    "# Example prediction\n",
    "print(\"\\nExample prediction for a new student:\")\n",
    "new_student = pd.DataFrame([[8.5, 320, 650, 110, 2, 1, 1]], columns=features)\n",
    "probability = predict_admission(new_student)\n",
    "print(f\"Probability of acceptance: {probability:.2f}\")"
   ]
  }
 ],
 "metadata": {
  "kernelspec": {
   "display_name": "Python 3",
   "language": "python",
   "name": "python3"
  },
  "language_info": {
   "codemirror_mode": {
    "name": "ipython",
    "version": 3
   },
   "file_extension": ".py",
   "mimetype": "text/x-python",
   "name": "python",
   "nbconvert_exporter": "python",
   "pygments_lexer": "ipython3",
   "version": "3.12.2"
  }
 },
 "nbformat": 4,
 "nbformat_minor": 2
}
